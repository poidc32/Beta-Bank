{
 "cells": [
  {
   "cell_type": "markdown",
   "metadata": {},
   "source": [
    "## Descripción del proyecto "
   ]
  },
  {
   "cell_type": "markdown",
   "metadata": {},
   "source": [
    "Los clientes de Beta Bank se están yendo, cada mes, poco a poco. Los banqueros descubrieron que es más barato salvar a los clientes existentes que atraer nuevos.\n",
    "\n",
    "Necesitamos predecir si un cliente dejará el banco pronto. Tú tienes los datos sobre el comportamiento pasado de los clientes y la terminación de contratos con el banco."
   ]
  },
  {
   "cell_type": "markdown",
   "metadata": {},
   "source": [
    "## Descripción de los datos"
   ]
  },
  {
   "cell_type": "markdown",
   "metadata": {},
   "source": [
    "Características\n",
    "\n",
    "- RowNumber: índice de cadena de datos\n",
    "- CustomerId: identificador de cliente único\n",
    "- Surname: apellido\n",
    "- CreditScore: valor de crédito\n",
    "- Geography: país de residencia\n",
    "- Gender: sexo\n",
    "- Age: edad\n",
    "- Tenure: período durante el cual ha madurado el depósito a plazo fijo de un cliente (años)\n",
    "- Balance: saldo de la cuenta\n",
    "- NumOfProducts: número de productos bancarios utilizados por el cliente\n",
    "- HasCrCard: el cliente tiene una tarjeta de crédito (1 - sí; 0 - no)\n",
    "- IsActiveMember: actividad del cliente (1 - sí; 0 - no)\n",
    "- EstimatedSalary: salario estimado\n",
    "\n",
    "Objetivo\n",
    "\n",
    "- Exited: El cliente se ha ido (1 - sí; 0 - no)"
   ]
  },
  {
   "cell_type": "markdown",
   "metadata": {},
   "source": [
    "## Análisis exploratorio de datos"
   ]
  },
  {
   "cell_type": "code",
   "execution_count": null,
   "metadata": {},
   "outputs": [],
   "source": [
    "# Cargamos librerías a utilizar\n",
    "import pandas as pd\n",
    "import numpy as np\n",
    "from sklearn.model_selection import train_test_split\n",
    "from sklearn.linear_model import LogisticRegression\n",
    "from sklearn.tree import DecisionTreeClassifier\n",
    "from sklearn.ensemble import RandomForestClassifier\n",
    "from sklearn.metrics import accuracy_score\n",
    "from sklearn.metrics import f1_score, roc_auc_score\n",
    "from sklearn.utils import shuffle"
   ]
  },
  {
   "cell_type": "code",
   "execution_count": null,
   "metadata": {},
   "outputs": [],
   "source": [
    "# Cargamos nuestro df y observamos información importante\n",
    "data = pd.read_csv('/datasets/Churn.csv')\n",
    "\n",
    "data.info()\n",
    "data.head()"
   ]
  },
  {
   "cell_type": "code",
   "execution_count": null,
   "metadata": {
    "scrolled": true
   },
   "outputs": [],
   "source": [
    "data['Tenure'] = data['Tenure'].fillna(0.0)  # Reemplazar NaN por 0"
   ]
  },
  {
   "cell_type": "markdown",
   "metadata": {},
   "source": [
    "## Segmentación de datos "
   ]
  },
  {
   "cell_type": "code",
   "execution_count": null,
   "metadata": {},
   "outputs": [],
   "source": [
    "#Se utiliza la codificacion ohe para poder transformar las caracteristicas categoricas en numericas\n",
    "data_ohe = pd.get_dummies(data, columns=['Geography', 'Gender'], drop_first=True)\n",
    "target = data_ohe['Exited']\n",
    "features = data_ohe.drop(['Exited', 'RowNumber', 'CustomerId', 'Surname'], axis=1)\n",
    "\n",
    "#Se divide el conjunto de datos\n",
    "features_train, features_temp, target_train, target_temp = train_test_split(features, target, test_size=0.4, random_state=12345)\n",
    "features_valid, features_test, target_valid, target_test = train_test_split(features, target, test_size=0.5, random_state=12345) \n"
   ]
  },
  {
   "cell_type": "markdown",
   "metadata": {},
   "source": [
    "## Prueba inicial"
   ]
  },
  {
   "cell_type": "code",
   "execution_count": null,
   "metadata": {},
   "outputs": [],
   "source": [
    "model = LogisticRegression (random_state=12345, solver='liblinear')\n",
    "model.fit(features_train, target_train)\n",
    "\n",
    "print('¡Entrenado!')"
   ]
  },
  {
   "cell_type": "code",
   "execution_count": null,
   "metadata": {},
   "outputs": [],
   "source": [
    "# Predecir en el conjunto de prueba\n",
    "predicted_valid = model.predict(features_valid)\n",
    "\n",
    "print(accuracy_score (target_valid ,predicted_valid))\n",
    "print('F1:', f1_score(target_valid, predicted_valid)) #Se verifica el valor F1\n",
    "print ('auc_roc:', roc_auc_score(target_valid, model.predict_proba(features_valid)[:, 1])\n",
    ")"
   ]
  },
  {
   "cell_type": "markdown",
   "metadata": {},
   "source": [
    "**Se tiene un valor F1 sumamente bajo, por lo que se concluye que este modelo no sirve, aún asi se comparaara este modelo contra uno constante**"
   ]
  },
  {
   "cell_type": "markdown",
   "metadata": {},
   "source": [
    "## Prueba de consistencia"
   ]
  },
  {
   "cell_type": "code",
   "execution_count": null,
   "metadata": {},
   "outputs": [],
   "source": [
    "target_pred_constant = pd.Series([0] * len(target)) #Se crea un modelo constante \n",
    "\n",
    "print(accuracy_score(target, target_pred_constant))"
   ]
  },
  {
   "cell_type": "markdown",
   "metadata": {},
   "source": [
    "**Se tiene el mismo resultado tanto en el modelo constante como en el modelo supuestamente entrenado anteriormente, por lo que se sabe que el modelo que se entreno no es confiable.**"
   ]
  },
  {
   "cell_type": "markdown",
   "metadata": {},
   "source": [
    "## Corrección de desequilibrio de datos y eleccion de mejor modelo"
   ]
  },
  {
   "cell_type": "code",
   "execution_count": null,
   "metadata": {},
   "outputs": [],
   "source": [
    "model_balanced = LogisticRegression(random_state=12345, solver='liblinear', class_weight='balanced') #se utiliza el argumento class_weight para ajustar el peso de las clases\n",
    "#Se entrena un nuevo modelo balanceado\n",
    "model_balanced.fit(features_train, target_train)\n",
    "predicted_valid_b = model_balanced.predict(features_valid)\n",
    "\n",
    "print('F1:', f1_score(target_valid, predicted_valid_b)) #Se calcula nuevamente el valor F1\n",
    "print ('auc_roc:', roc_auc_score(target_valid, model_balanced.predict_proba(features_valid)[:, 1])\n",
    ")"
   ]
  },
  {
   "cell_type": "markdown",
   "metadata": {},
   "source": [
    "**Se observa un amplia mejora en nuestro modelo, es mas confiable que el anterior, sin embargo, aún no es suficiente**"
   ]
  },
  {
   "cell_type": "code",
   "execution_count": null,
   "metadata": {},
   "outputs": [],
   "source": [
    "#se crea una funcion para aplicar la tecnica de submuestreo\n",
    "def downsample(features, target, fraction):\n",
    "    features_zeros = features[target == 0]\n",
    "    features_ones = features[target == 1]\n",
    "    target_zeros = target[target == 0]\n",
    "    target_ones = target[target == 1]\n",
    "\n",
    "    features_downsampled = pd.concat(\n",
    "        [features_zeros.sample(frac=fraction, random_state=12345)]\n",
    "        + [features_ones]\n",
    "    )\n",
    "    target_downsampled = pd.concat(\n",
    "        [target_zeros.sample(frac=fraction, random_state=12345)]\n",
    "        + [target_ones]\n",
    "    )\n",
    "\n",
    "    features_downsampled, target_downsampled = shuffle(\n",
    "        features_downsampled, target_downsampled, random_state=12345\n",
    "    )\n",
    "\n",
    "    return features_downsampled, target_downsampled\n",
    "\n",
    "\n",
    "features_downsampled, target_downsampled = downsample(\n",
    "    features_train, target_train, 0.1\n",
    ")\n",
    "\n",
    "#Se entrena un tercer modelo\n",
    "model_c = LogisticRegression (random_state=12345, solver='liblinear', class_weight='balanced')\n",
    "model_c.fit(features_downsampled, target_downsampled)\n",
    "predicted_valid_c = model_c.predict(features_valid)# < escribe el código aquí >\n",
    "\n",
    "print('F1:', f1_score(target_valid, predicted_valid_c))\n",
    "print ('auc_roc:', roc_auc_score(target_valid, model_c.predict_proba(features_valid)[:, 1])\n",
    ")"
   ]
  },
  {
   "cell_type": "markdown",
   "metadata": {},
   "source": [
    "**En este caso se observa que se tiene un valor menor de F1 en comparacion al metodo anterior, por lo que se sabe que no se seguira usando el metodo de submuetreo.**\n",
    "\n",
    "**Dado que entrenando el modelo con regresión logistica no se obtuvieron resultados satisfactorios, ahora se procedera a entrenar el modelo con un arbol de decision.**"
   ]
  },
  {
   "cell_type": "code",
   "execution_count": null,
   "metadata": {},
   "outputs": [],
   "source": [
    "for depth in range(1, 11):  # selecciona el rango del hiperparámetro\n",
    "    model_d = DecisionTreeClassifier(random_state = 54321, max_depth=depth, class_weight='balanced')\n",
    "    model_d.fit(features_train, target_train)\n",
    "    predicted_valid_d = model_d.predict(features_valid)\n",
    "    test_predictions_d = model_d.predict(features_test)\n",
    "    \n",
    "    print ('conjunto de validacion', depth)\n",
    "    print ('f1:', f1_score(target_valid, predicted_valid_d))\n",
    "    print ('auc_roc:', roc_auc_score(target_valid, model_d.predict_proba(features_valid)[:, 1]))\n",
    "    print ('conjunto de prueba', depth)\n",
    "    print ('f1:', f1_score(target_test, test_predictions_d))\n",
    "    print ('auc_roc:', roc_auc_score(target_test, model_d.predict_proba(features_test)[:, 1]))\n",
    "    print()"
   ]
  },
  {
   "cell_type": "markdown",
   "metadata": {},
   "source": [
    "**Se observa que cuando el valor de max_depth es igual a 5, el F1-score en el conjunto de prueba alcanza su valor máximo. Además, en el conjunto de entrenamiento se obtiene una puntuación similar, lo que indica que hasta ahora este modelo es el mejor entrenado.**"
   ]
  },
  {
   "cell_type": "markdown",
   "metadata": {},
   "source": [
    "**Este modelo presenta un buen balance tanto con el conjunto de entrenamiento como con el de prueba, por lo que hasta el momento, es el mejor modelo que se ha entrenado**\n",
    "\n",
    "**Se entrenara el modelo con bosque aleatorio**"
   ]
  },
  {
   "cell_type": "code",
   "execution_count": null,
   "metadata": {},
   "outputs": [],
   "source": [
    "best_f1 = 0\n",
    "best_est = 0\n",
    "for est in range(1, 51): # selecciona el rango del hiperparámetro\n",
    "    model_e = RandomForestClassifier(random_state=54321, n_estimators=est, class_weight='balanced') # configura el número de árboles\n",
    "    model_e.fit(features_train, target_train) # entrena el modelo en el conjunto de entrenamiento\n",
    "    \n",
    "    predicted_valid_e = model_e.predict(features_valid)\n",
    "    test_predictions_e = model_e.predict(features_test)\n",
    "    \n",
    "    f1_valid = f1_score(target_valid, predicted_valid_e)\n",
    "    f1_test = f1_score(target_test, test_predictions_e)\n",
    "    \n",
    "    if f1_test > best_f1:\n",
    "        best_f1 = f1_test# guarda la mejor puntuación de accuracy en el conjunto de validación\n",
    "        best_est = est# guarda el número de estimadores que corresponden a la mejor puntuación de exactitud\n",
    "\n",
    "        print(\"Para n_estimators = {}: F1-score (validación): {}, F1-score (prueba): {}\".format(est, f1_valid, f1_test))\n",
    "\n",
    "print(\"El mejor modelo tiene n_estimators = {} con un F1-score en validación de: {}\".format(best_est, best_f1))"
   ]
  },
  {
   "cell_type": "markdown",
   "metadata": {},
   "source": [
    "**Este modelo presenta variaciones bastante grandes de un conjunto de datos a otro, por lo cual este modelo se descarta.**\n",
    "\n",
    "**Se concluye que el mejor modelo para este caso es el arbol de decisiones**"
   ]
  },
  {
   "cell_type": "markdown",
   "metadata": {},
   "source": [
    "## Prueba final"
   ]
  },
  {
   "cell_type": "code",
   "execution_count": null,
   "metadata": {},
   "outputs": [],
   "source": [
    "model_d = DecisionTreeClassifier(random_state = 54321, max_depth=5, class_weight='balanced')\n",
    "model_d.fit(features_train, target_train)\n",
    "test_predictions_d = model_d.predict(features_test)\n",
    "\n",
    "print ('f1:', f1_score(target_test, test_predictions_d))\n",
    "print ('auc_roc:', roc_auc_score(target_test, model_d.predict_proba(features_test)[:, 1]))"
   ]
  },
  {
   "cell_type": "markdown",
   "metadata": {},
   "source": [
    "**Se obtiene el mejor resultado posible con el modelo que mostro mejor desempeño.**"
   ]
  }
 ],
 "metadata": {
  "ExecuteTimeLog": [
   {
    "duration": 768,
    "start_time": "2024-12-01T03:01:11.563Z"
   },
   {
    "duration": 8,
    "start_time": "2024-12-01T03:02:18.081Z"
   },
   {
    "duration": 28,
    "start_time": "2024-12-01T03:03:12.015Z"
   },
   {
    "duration": 30,
    "start_time": "2024-12-01T03:11:25.642Z"
   },
   {
    "duration": 29,
    "start_time": "2024-12-01T03:11:34.231Z"
   },
   {
    "duration": 803,
    "start_time": "2024-12-01T03:21:04.712Z"
   },
   {
    "duration": 278,
    "start_time": "2024-12-01T03:22:51.656Z"
   },
   {
    "duration": 704,
    "start_time": "2024-12-01T03:23:15.458Z"
   },
   {
    "duration": 82,
    "start_time": "2024-12-01T03:24:40.827Z"
   },
   {
    "duration": 82,
    "start_time": "2024-12-01T03:24:46.328Z"
   },
   {
    "duration": 81,
    "start_time": "2024-12-01T03:26:13.556Z"
   },
   {
    "duration": 37,
    "start_time": "2024-12-01T03:27:10.838Z"
   },
   {
    "duration": 37,
    "start_time": "2024-12-01T03:27:45.433Z"
   },
   {
    "duration": 24,
    "start_time": "2024-12-01T03:27:56.769Z"
   },
   {
    "duration": 41,
    "start_time": "2024-12-01T03:29:15.718Z"
   },
   {
    "duration": 758,
    "start_time": "2024-12-01T03:30:48.949Z"
   },
   {
    "duration": 10,
    "start_time": "2024-12-01T03:30:57.268Z"
   },
   {
    "duration": 856,
    "start_time": "2024-12-01T03:32:45.831Z"
   },
   {
    "duration": 35,
    "start_time": "2024-12-01T03:33:14.682Z"
   },
   {
    "duration": 769,
    "start_time": "2024-12-01T03:33:28.144Z"
   },
   {
    "duration": 15,
    "start_time": "2024-12-01T03:33:32.363Z"
   },
   {
    "duration": 853,
    "start_time": "2024-12-01T03:33:38.685Z"
   },
   {
    "duration": 793,
    "start_time": "2024-12-01T03:33:53.830Z"
   },
   {
    "duration": 10,
    "start_time": "2024-12-01T03:33:59.110Z"
   },
   {
    "duration": 733,
    "start_time": "2024-12-01T03:34:22.275Z"
   },
   {
    "duration": 213,
    "start_time": "2024-12-01T03:34:31.699Z"
   },
   {
    "duration": 716,
    "start_time": "2024-12-01T03:34:49.140Z"
   },
   {
    "duration": 781,
    "start_time": "2024-12-01T03:35:09.230Z"
   },
   {
    "duration": 907,
    "start_time": "2024-12-01T03:35:50.579Z"
   },
   {
    "duration": 6,
    "start_time": "2024-12-01T03:36:16.457Z"
   },
   {
    "duration": 231,
    "start_time": "2024-12-01T03:36:23.036Z"
   },
   {
    "duration": 803,
    "start_time": "2024-12-01T03:39:20.308Z"
   },
   {
    "duration": 6,
    "start_time": "2024-12-01T03:39:26.581Z"
   },
   {
    "duration": 394,
    "start_time": "2024-12-01T03:39:29.811Z"
   },
   {
    "duration": 842,
    "start_time": "2024-12-01T03:45:35.691Z"
   },
   {
    "duration": 7,
    "start_time": "2024-12-01T03:45:36.536Z"
   },
   {
    "duration": 406,
    "start_time": "2024-12-01T03:45:36.544Z"
   },
   {
    "duration": 4,
    "start_time": "2024-12-01T03:45:50.238Z"
   },
   {
    "duration": 791,
    "start_time": "2024-12-02T02:38:03.558Z"
   },
   {
    "duration": 5,
    "start_time": "2024-12-02T02:38:04.352Z"
   },
   {
    "duration": 0,
    "start_time": "2024-12-02T02:38:04.359Z"
   },
   {
    "duration": 0,
    "start_time": "2024-12-02T02:38:04.362Z"
   },
   {
    "duration": 46,
    "start_time": "2024-12-02T02:38:16.150Z"
   },
   {
    "duration": 8,
    "start_time": "2024-12-02T02:38:20.098Z"
   },
   {
    "duration": 3,
    "start_time": "2024-12-02T02:39:29.741Z"
   },
   {
    "duration": 216,
    "start_time": "2024-12-02T02:39:40.677Z"
   },
   {
    "duration": 16,
    "start_time": "2024-12-02T02:39:50.940Z"
   },
   {
    "duration": 14,
    "start_time": "2024-12-02T02:41:11.868Z"
   },
   {
    "duration": 724,
    "start_time": "2024-12-02T02:41:29.778Z"
   },
   {
    "duration": 33,
    "start_time": "2024-12-02T02:41:30.504Z"
   },
   {
    "duration": 16,
    "start_time": "2024-12-02T02:41:30.539Z"
   },
   {
    "duration": 31,
    "start_time": "2024-12-02T02:41:30.557Z"
   },
   {
    "duration": 746,
    "start_time": "2024-12-02T02:41:55.357Z"
   },
   {
    "duration": 33,
    "start_time": "2024-12-02T02:41:56.105Z"
   },
   {
    "duration": 2,
    "start_time": "2024-12-02T02:41:56.139Z"
   },
   {
    "duration": 414,
    "start_time": "2024-12-02T02:41:56.143Z"
   },
   {
    "duration": 797,
    "start_time": "2024-12-02T02:42:14.619Z"
   },
   {
    "duration": 31,
    "start_time": "2024-12-02T02:42:15.419Z"
   },
   {
    "duration": 15,
    "start_time": "2024-12-02T02:42:15.451Z"
   },
   {
    "duration": 44,
    "start_time": "2024-12-02T02:42:15.468Z"
   },
   {
    "duration": 718,
    "start_time": "2024-12-02T03:07:23.594Z"
   },
   {
    "duration": 33,
    "start_time": "2024-12-02T03:07:24.315Z"
   },
   {
    "duration": 15,
    "start_time": "2024-12-02T03:07:24.350Z"
   },
   {
    "duration": 44,
    "start_time": "2024-12-02T03:07:24.367Z"
   },
   {
    "duration": 325,
    "start_time": "2024-12-02T03:07:24.414Z"
   },
   {
    "duration": 780,
    "start_time": "2024-12-02T03:08:11.132Z"
   },
   {
    "duration": 32,
    "start_time": "2024-12-02T03:08:11.914Z"
   },
   {
    "duration": 15,
    "start_time": "2024-12-02T03:08:11.948Z"
   },
   {
    "duration": 46,
    "start_time": "2024-12-02T03:08:11.965Z"
   },
   {
    "duration": 327,
    "start_time": "2024-12-02T03:08:12.013Z"
   },
   {
    "duration": 23,
    "start_time": "2024-12-02T03:09:29.902Z"
   },
   {
    "duration": 17,
    "start_time": "2024-12-02T03:09:35.786Z"
   },
   {
    "duration": 15,
    "start_time": "2024-12-02T03:09:49.664Z"
   },
   {
    "duration": 79,
    "start_time": "2024-12-02T03:13:26.733Z"
   },
   {
    "duration": 28,
    "start_time": "2024-12-02T03:13:31.287Z"
   },
   {
    "duration": 4,
    "start_time": "2024-12-02T03:13:37.893Z"
   },
   {
    "duration": 11,
    "start_time": "2024-12-02T03:13:43.964Z"
   },
   {
    "duration": 4,
    "start_time": "2024-12-02T03:15:45.461Z"
   },
   {
    "duration": 29,
    "start_time": "2024-12-02T03:15:58.298Z"
   },
   {
    "duration": 716,
    "start_time": "2024-12-02T03:17:55.091Z"
   },
   {
    "duration": 33,
    "start_time": "2024-12-02T03:17:55.813Z"
   },
   {
    "duration": 16,
    "start_time": "2024-12-02T03:17:55.848Z"
   },
   {
    "duration": 28,
    "start_time": "2024-12-02T03:17:55.865Z"
   },
   {
    "duration": 355,
    "start_time": "2024-12-02T03:17:55.895Z"
   },
   {
    "duration": 13,
    "start_time": "2024-12-02T03:18:18.120Z"
   },
   {
    "duration": 6,
    "start_time": "2024-12-02T03:31:22.690Z"
   },
   {
    "duration": 16,
    "start_time": "2024-12-02T03:37:40.726Z"
   },
   {
    "duration": 8,
    "start_time": "2024-12-02T03:40:42.856Z"
   },
   {
    "duration": 778,
    "start_time": "2024-12-02T03:46:22.131Z"
   },
   {
    "duration": 34,
    "start_time": "2024-12-02T03:46:22.911Z"
   },
   {
    "duration": 16,
    "start_time": "2024-12-02T03:46:22.946Z"
   },
   {
    "duration": 29,
    "start_time": "2024-12-02T03:46:22.964Z"
   },
   {
    "duration": 312,
    "start_time": "2024-12-02T03:46:23.008Z"
   },
   {
    "duration": 0,
    "start_time": "2024-12-02T03:46:23.322Z"
   },
   {
    "duration": 0,
    "start_time": "2024-12-02T03:46:23.323Z"
   },
   {
    "duration": 10,
    "start_time": "2024-12-02T03:47:09.685Z"
   },
   {
    "duration": 8,
    "start_time": "2024-12-02T03:47:17.783Z"
   },
   {
    "duration": 751,
    "start_time": "2024-12-02T03:47:55.905Z"
   },
   {
    "duration": 32,
    "start_time": "2024-12-02T03:47:56.659Z"
   },
   {
    "duration": 28,
    "start_time": "2024-12-02T03:47:56.693Z"
   },
   {
    "duration": 28,
    "start_time": "2024-12-02T03:47:56.723Z"
   },
   {
    "duration": 11,
    "start_time": "2024-12-02T03:47:56.753Z"
   },
   {
    "duration": 48,
    "start_time": "2024-12-02T03:47:56.766Z"
   },
   {
    "duration": 7,
    "start_time": "2024-12-02T03:47:56.815Z"
   },
   {
    "duration": 8,
    "start_time": "2024-12-02T03:48:40.295Z"
   },
   {
    "duration": 725,
    "start_time": "2024-12-02T03:50:19.583Z"
   },
   {
    "duration": 33,
    "start_time": "2024-12-02T03:50:20.310Z"
   },
   {
    "duration": 16,
    "start_time": "2024-12-02T03:50:20.345Z"
   },
   {
    "duration": 47,
    "start_time": "2024-12-02T03:50:20.362Z"
   },
   {
    "duration": 12,
    "start_time": "2024-12-02T03:50:20.411Z"
   },
   {
    "duration": 9,
    "start_time": "2024-12-02T03:50:20.424Z"
   },
   {
    "duration": 783,
    "start_time": "2024-12-05T03:26:16.287Z"
   },
   {
    "duration": 49,
    "start_time": "2024-12-05T03:26:17.072Z"
   },
   {
    "duration": 19,
    "start_time": "2024-12-05T03:26:17.123Z"
   },
   {
    "duration": 30,
    "start_time": "2024-12-05T03:26:17.145Z"
   },
   {
    "duration": 8,
    "start_time": "2024-12-05T03:26:17.177Z"
   },
   {
    "duration": 7,
    "start_time": "2024-12-05T03:26:17.186Z"
   },
   {
    "duration": 777,
    "start_time": "2024-12-05T03:27:15.375Z"
   },
   {
    "duration": 34,
    "start_time": "2024-12-05T03:27:16.153Z"
   },
   {
    "duration": 17,
    "start_time": "2024-12-05T03:27:16.189Z"
   },
   {
    "duration": 46,
    "start_time": "2024-12-05T03:27:16.207Z"
   },
   {
    "duration": 11,
    "start_time": "2024-12-05T03:27:16.255Z"
   },
   {
    "duration": 8,
    "start_time": "2024-12-05T03:27:16.268Z"
   },
   {
    "duration": 7,
    "start_time": "2024-12-05T03:31:32.600Z"
   },
   {
    "duration": 29,
    "start_time": "2024-12-05T03:32:47.990Z"
   },
   {
    "duration": 709,
    "start_time": "2024-12-05T03:33:50.730Z"
   },
   {
    "duration": 34,
    "start_time": "2024-12-05T03:33:51.442Z"
   },
   {
    "duration": 16,
    "start_time": "2024-12-05T03:33:51.478Z"
   },
   {
    "duration": 49,
    "start_time": "2024-12-05T03:33:51.496Z"
   },
   {
    "duration": 15,
    "start_time": "2024-12-05T03:33:51.547Z"
   },
   {
    "duration": 10,
    "start_time": "2024-12-05T03:33:51.565Z"
   },
   {
    "duration": 96,
    "start_time": "2024-12-05T03:33:51.576Z"
   },
   {
    "duration": 850,
    "start_time": "2024-12-05T03:40:21.915Z"
   },
   {
    "duration": 49,
    "start_time": "2024-12-05T03:40:22.768Z"
   },
   {
    "duration": 35,
    "start_time": "2024-12-05T03:40:22.820Z"
   },
   {
    "duration": 31,
    "start_time": "2024-12-05T03:40:22.860Z"
   },
   {
    "duration": 10,
    "start_time": "2024-12-05T03:40:22.893Z"
   },
   {
    "duration": 330,
    "start_time": "2024-12-05T03:40:22.943Z"
   },
   {
    "duration": 0,
    "start_time": "2024-12-05T03:40:23.275Z"
   },
   {
    "duration": 0,
    "start_time": "2024-12-05T03:40:23.276Z"
   },
   {
    "duration": 7,
    "start_time": "2024-12-05T03:40:33.374Z"
   },
   {
    "duration": 764,
    "start_time": "2024-12-05T03:43:24.890Z"
   },
   {
    "duration": 34,
    "start_time": "2024-12-05T03:43:25.656Z"
   },
   {
    "duration": 16,
    "start_time": "2024-12-05T03:43:25.692Z"
   },
   {
    "duration": 34,
    "start_time": "2024-12-05T03:43:25.709Z"
   },
   {
    "duration": 19,
    "start_time": "2024-12-05T03:43:25.745Z"
   },
   {
    "duration": 10,
    "start_time": "2024-12-05T03:43:25.765Z"
   },
   {
    "duration": 8,
    "start_time": "2024-12-05T03:43:25.777Z"
   },
   {
    "duration": 167,
    "start_time": "2024-12-05T03:43:25.787Z"
   },
   {
    "duration": 318,
    "start_time": "2024-12-05T03:43:25.956Z"
   },
   {
    "duration": 19,
    "start_time": "2024-12-05T04:02:12.977Z"
   },
   {
    "duration": 20,
    "start_time": "2024-12-05T04:02:33.791Z"
   },
   {
    "duration": 736,
    "start_time": "2024-12-05T04:02:46.209Z"
   },
   {
    "duration": 33,
    "start_time": "2024-12-05T04:02:46.947Z"
   },
   {
    "duration": 16,
    "start_time": "2024-12-05T04:02:46.982Z"
   },
   {
    "duration": 16,
    "start_time": "2024-12-05T04:02:47.000Z"
   },
   {
    "duration": 37,
    "start_time": "2024-12-05T04:02:47.019Z"
   },
   {
    "duration": 17,
    "start_time": "2024-12-05T04:02:47.058Z"
   },
   {
    "duration": 66,
    "start_time": "2024-12-05T04:02:47.077Z"
   },
   {
    "duration": 99,
    "start_time": "2024-12-05T04:02:47.147Z"
   },
   {
    "duration": 102,
    "start_time": "2024-12-05T04:02:47.247Z"
   },
   {
    "duration": 781,
    "start_time": "2024-12-05T04:05:44.969Z"
   },
   {
    "duration": 32,
    "start_time": "2024-12-05T04:05:45.752Z"
   },
   {
    "duration": 16,
    "start_time": "2024-12-05T04:05:45.785Z"
   },
   {
    "duration": 13,
    "start_time": "2024-12-05T04:05:45.803Z"
   },
   {
    "duration": 34,
    "start_time": "2024-12-05T04:05:45.818Z"
   },
   {
    "duration": 7,
    "start_time": "2024-12-05T04:05:45.854Z"
   },
   {
    "duration": 6,
    "start_time": "2024-12-05T04:05:45.863Z"
   },
   {
    "duration": 85,
    "start_time": "2024-12-05T04:05:45.874Z"
   },
   {
    "duration": 183,
    "start_time": "2024-12-05T04:05:45.961Z"
   },
   {
    "duration": 769,
    "start_time": "2024-12-05T04:06:28.990Z"
   },
   {
    "duration": 31,
    "start_time": "2024-12-05T04:06:29.761Z"
   },
   {
    "duration": 17,
    "start_time": "2024-12-05T04:06:29.794Z"
   },
   {
    "duration": 30,
    "start_time": "2024-12-05T04:06:29.812Z"
   },
   {
    "duration": 19,
    "start_time": "2024-12-05T04:06:29.844Z"
   },
   {
    "duration": 9,
    "start_time": "2024-12-05T04:06:29.865Z"
   },
   {
    "duration": 7,
    "start_time": "2024-12-05T04:06:29.875Z"
   },
   {
    "duration": 166,
    "start_time": "2024-12-05T04:06:29.883Z"
   },
   {
    "duration": 139,
    "start_time": "2024-12-05T04:06:30.052Z"
   },
   {
    "duration": 773,
    "start_time": "2024-12-05T04:07:31.498Z"
   },
   {
    "duration": 33,
    "start_time": "2024-12-05T04:07:32.273Z"
   },
   {
    "duration": 17,
    "start_time": "2024-12-05T04:07:32.308Z"
   },
   {
    "duration": 25,
    "start_time": "2024-12-05T04:07:32.328Z"
   },
   {
    "duration": 19,
    "start_time": "2024-12-05T04:07:32.355Z"
   },
   {
    "duration": 15,
    "start_time": "2024-12-05T04:07:32.375Z"
   },
   {
    "duration": 50,
    "start_time": "2024-12-05T04:07:32.393Z"
   },
   {
    "duration": 110,
    "start_time": "2024-12-05T04:07:32.445Z"
   },
   {
    "duration": 186,
    "start_time": "2024-12-05T04:07:32.557Z"
   },
   {
    "duration": 723,
    "start_time": "2024-12-05T04:09:49.130Z"
   },
   {
    "duration": 33,
    "start_time": "2024-12-05T04:09:49.855Z"
   },
   {
    "duration": 17,
    "start_time": "2024-12-05T04:09:49.890Z"
   },
   {
    "duration": 13,
    "start_time": "2024-12-05T04:09:49.909Z"
   },
   {
    "duration": 37,
    "start_time": "2024-12-05T04:09:49.923Z"
   },
   {
    "duration": 16,
    "start_time": "2024-12-05T04:09:49.962Z"
   },
   {
    "duration": 66,
    "start_time": "2024-12-05T04:09:49.981Z"
   },
   {
    "duration": 104,
    "start_time": "2024-12-05T04:09:50.050Z"
   },
   {
    "duration": 94,
    "start_time": "2024-12-05T04:09:50.156Z"
   },
   {
    "duration": 776,
    "start_time": "2024-12-05T04:09:59.182Z"
   },
   {
    "duration": 32,
    "start_time": "2024-12-05T04:09:59.961Z"
   },
   {
    "duration": 16,
    "start_time": "2024-12-05T04:09:59.996Z"
   },
   {
    "duration": 12,
    "start_time": "2024-12-05T04:10:00.014Z"
   },
   {
    "duration": 20,
    "start_time": "2024-12-05T04:10:00.044Z"
   },
   {
    "duration": 12,
    "start_time": "2024-12-05T04:10:00.066Z"
   },
   {
    "duration": 62,
    "start_time": "2024-12-05T04:10:00.081Z"
   },
   {
    "duration": 108,
    "start_time": "2024-12-05T04:10:00.145Z"
   },
   {
    "duration": 91,
    "start_time": "2024-12-05T04:10:00.255Z"
   },
   {
    "duration": 740,
    "start_time": "2024-12-05T04:10:26.408Z"
   },
   {
    "duration": 38,
    "start_time": "2024-12-05T04:10:27.151Z"
   },
   {
    "duration": 16,
    "start_time": "2024-12-05T04:10:27.192Z"
   },
   {
    "duration": 13,
    "start_time": "2024-12-05T04:10:27.847Z"
   },
   {
    "duration": 18,
    "start_time": "2024-12-05T04:10:27.862Z"
   },
   {
    "duration": 12,
    "start_time": "2024-12-05T04:10:27.882Z"
   },
   {
    "duration": 7,
    "start_time": "2024-12-05T04:10:27.943Z"
   },
   {
    "duration": 106,
    "start_time": "2024-12-05T04:10:27.952Z"
   },
   {
    "duration": 91,
    "start_time": "2024-12-05T04:10:28.060Z"
   },
   {
    "duration": 761,
    "start_time": "2024-12-05T04:12:06.040Z"
   },
   {
    "duration": 42,
    "start_time": "2024-12-05T04:12:06.803Z"
   },
   {
    "duration": 19,
    "start_time": "2024-12-05T04:12:06.848Z"
   },
   {
    "duration": 13,
    "start_time": "2024-12-05T04:12:06.868Z"
   },
   {
    "duration": 19,
    "start_time": "2024-12-05T04:12:06.883Z"
   },
   {
    "duration": 39,
    "start_time": "2024-12-05T04:12:06.904Z"
   },
   {
    "duration": 11,
    "start_time": "2024-12-05T04:12:06.946Z"
   },
   {
    "duration": 107,
    "start_time": "2024-12-05T04:12:06.959Z"
   },
   {
    "duration": 84,
    "start_time": "2024-12-05T04:12:07.069Z"
   },
   {
    "duration": 753,
    "start_time": "2024-12-05T04:19:45.202Z"
   },
   {
    "duration": 32,
    "start_time": "2024-12-05T04:19:45.957Z"
   },
   {
    "duration": 16,
    "start_time": "2024-12-05T04:19:45.991Z"
   },
   {
    "duration": 12,
    "start_time": "2024-12-05T04:19:46.009Z"
   },
   {
    "duration": 19,
    "start_time": "2024-12-05T04:19:46.042Z"
   },
   {
    "duration": 8,
    "start_time": "2024-12-05T04:19:46.063Z"
   },
   {
    "duration": 6,
    "start_time": "2024-12-05T04:19:46.073Z"
   },
   {
    "duration": 165,
    "start_time": "2024-12-05T04:19:46.081Z"
   },
   {
    "duration": 99,
    "start_time": "2024-12-05T04:19:46.248Z"
   },
   {
    "duration": 318,
    "start_time": "2024-12-05T04:22:06.506Z"
   },
   {
    "duration": 36,
    "start_time": "2024-12-05T04:23:43.801Z"
   },
   {
    "duration": 23,
    "start_time": "2024-12-05T04:23:58.946Z"
   },
   {
    "duration": 743,
    "start_time": "2024-12-05T04:27:46.722Z"
   },
   {
    "duration": 33,
    "start_time": "2024-12-05T04:27:47.467Z"
   },
   {
    "duration": 16,
    "start_time": "2024-12-05T04:27:47.502Z"
   },
   {
    "duration": 28,
    "start_time": "2024-12-05T04:27:47.520Z"
   },
   {
    "duration": 19,
    "start_time": "2024-12-05T04:27:47.550Z"
   },
   {
    "duration": 3,
    "start_time": "2024-12-05T04:27:47.571Z"
   },
   {
    "duration": 0,
    "start_time": "2024-12-05T04:27:47.576Z"
   },
   {
    "duration": 0,
    "start_time": "2024-12-05T04:27:47.578Z"
   },
   {
    "duration": 0,
    "start_time": "2024-12-05T04:27:47.579Z"
   },
   {
    "duration": 0,
    "start_time": "2024-12-05T04:27:47.581Z"
   },
   {
    "duration": 14,
    "start_time": "2024-12-05T04:28:22.598Z"
   },
   {
    "duration": 9,
    "start_time": "2024-12-05T04:28:41.292Z"
   },
   {
    "duration": 33,
    "start_time": "2024-12-05T04:29:54.348Z"
   },
   {
    "duration": 327,
    "start_time": "2024-12-05T04:30:38.821Z"
   },
   {
    "duration": 24,
    "start_time": "2024-12-05T04:30:53.767Z"
   },
   {
    "duration": 800,
    "start_time": "2024-12-05T04:31:35.956Z"
   },
   {
    "duration": 35,
    "start_time": "2024-12-05T04:31:36.759Z"
   },
   {
    "duration": 5,
    "start_time": "2024-12-05T04:31:36.796Z"
   },
   {
    "duration": 14,
    "start_time": "2024-12-05T04:31:36.803Z"
   },
   {
    "duration": 425,
    "start_time": "2024-12-05T04:31:36.819Z"
   },
   {
    "duration": 0,
    "start_time": "2024-12-05T04:31:37.247Z"
   },
   {
    "duration": 0,
    "start_time": "2024-12-05T04:31:37.249Z"
   },
   {
    "duration": 0,
    "start_time": "2024-12-05T04:31:37.250Z"
   },
   {
    "duration": 0,
    "start_time": "2024-12-05T04:31:37.255Z"
   },
   {
    "duration": 0,
    "start_time": "2024-12-05T04:31:37.256Z"
   },
   {
    "duration": 784,
    "start_time": "2024-12-05T04:35:48.570Z"
   },
   {
    "duration": 34,
    "start_time": "2024-12-05T04:35:49.356Z"
   },
   {
    "duration": 16,
    "start_time": "2024-12-05T04:35:49.392Z"
   },
   {
    "duration": 12,
    "start_time": "2024-12-05T04:35:49.409Z"
   },
   {
    "duration": 38,
    "start_time": "2024-12-05T04:35:49.424Z"
   },
   {
    "duration": 12,
    "start_time": "2024-12-05T04:35:49.464Z"
   },
   {
    "duration": 64,
    "start_time": "2024-12-05T04:35:49.479Z"
   },
   {
    "duration": 113,
    "start_time": "2024-12-05T04:35:49.545Z"
   },
   {
    "duration": 97,
    "start_time": "2024-12-05T04:35:49.660Z"
   },
   {
    "duration": 107,
    "start_time": "2024-12-05T04:35:49.759Z"
   },
   {
    "duration": 223,
    "start_time": "2024-12-05T04:38:46.900Z"
   },
   {
    "duration": 16,
    "start_time": "2024-12-05T04:39:11.306Z"
   },
   {
    "duration": 792,
    "start_time": "2024-12-05T04:39:20.964Z"
   },
   {
    "duration": 33,
    "start_time": "2024-12-05T04:39:21.758Z"
   },
   {
    "duration": 16,
    "start_time": "2024-12-05T04:39:21.792Z"
   },
   {
    "duration": 32,
    "start_time": "2024-12-05T04:39:21.810Z"
   },
   {
    "duration": 20,
    "start_time": "2024-12-05T04:39:21.844Z"
   },
   {
    "duration": 17,
    "start_time": "2024-12-05T04:39:21.865Z"
   },
   {
    "duration": 61,
    "start_time": "2024-12-05T04:39:21.884Z"
   },
   {
    "duration": 114,
    "start_time": "2024-12-05T04:39:21.947Z"
   },
   {
    "duration": 93,
    "start_time": "2024-12-05T04:39:22.063Z"
   },
   {
    "duration": 105,
    "start_time": "2024-12-05T04:39:22.159Z"
   },
   {
    "duration": 33,
    "start_time": "2024-12-05T04:39:54.045Z"
   },
   {
    "duration": 804,
    "start_time": "2024-12-05T04:41:33.845Z"
   },
   {
    "duration": 39,
    "start_time": "2024-12-05T04:41:34.652Z"
   },
   {
    "duration": 20,
    "start_time": "2024-12-05T04:41:34.693Z"
   },
   {
    "duration": 27,
    "start_time": "2024-12-05T04:41:34.715Z"
   },
   {
    "duration": 18,
    "start_time": "2024-12-05T04:41:34.745Z"
   },
   {
    "duration": 18,
    "start_time": "2024-12-05T04:41:34.765Z"
   },
   {
    "duration": 59,
    "start_time": "2024-12-05T04:41:34.785Z"
   },
   {
    "duration": 117,
    "start_time": "2024-12-05T04:41:34.846Z"
   },
   {
    "duration": 85,
    "start_time": "2024-12-05T04:41:34.965Z"
   },
   {
    "duration": 112,
    "start_time": "2024-12-05T04:41:35.051Z"
   },
   {
    "duration": 787,
    "start_time": "2024-12-05T04:47:48.398Z"
   },
   {
    "duration": 32,
    "start_time": "2024-12-05T04:47:49.187Z"
   },
   {
    "duration": 3,
    "start_time": "2024-12-05T04:47:49.221Z"
   },
   {
    "duration": 26,
    "start_time": "2024-12-05T04:47:49.225Z"
   },
   {
    "duration": 18,
    "start_time": "2024-12-05T04:47:49.253Z"
   },
   {
    "duration": 11,
    "start_time": "2024-12-05T04:47:49.273Z"
   },
   {
    "duration": 62,
    "start_time": "2024-12-05T04:47:49.285Z"
   },
   {
    "duration": 111,
    "start_time": "2024-12-05T04:47:49.349Z"
   },
   {
    "duration": 97,
    "start_time": "2024-12-05T04:47:49.462Z"
   },
   {
    "duration": 116,
    "start_time": "2024-12-05T04:47:49.561Z"
   },
   {
    "duration": 37,
    "start_time": "2024-12-05T04:51:53.354Z"
   },
   {
    "duration": 35,
    "start_time": "2024-12-05T04:52:51.412Z"
   },
   {
    "duration": 35,
    "start_time": "2024-12-05T04:55:38.097Z"
   },
   {
    "duration": 40,
    "start_time": "2024-12-05T05:00:49.548Z"
   },
   {
    "duration": 4,
    "start_time": "2024-12-05T05:05:55.380Z"
   },
   {
    "duration": 227,
    "start_time": "2024-12-05T05:06:05.344Z"
   },
   {
    "duration": 749,
    "start_time": "2024-12-05T05:06:32.711Z"
   },
   {
    "duration": 32,
    "start_time": "2024-12-05T05:06:33.462Z"
   },
   {
    "duration": 3,
    "start_time": "2024-12-05T05:06:33.496Z"
   },
   {
    "duration": 13,
    "start_time": "2024-12-05T05:06:33.501Z"
   },
   {
    "duration": 39,
    "start_time": "2024-12-05T05:06:33.515Z"
   },
   {
    "duration": 15,
    "start_time": "2024-12-05T05:06:33.556Z"
   },
   {
    "duration": 7,
    "start_time": "2024-12-05T05:06:33.573Z"
   },
   {
    "duration": 110,
    "start_time": "2024-12-05T05:06:33.644Z"
   },
   {
    "duration": 103,
    "start_time": "2024-12-05T05:06:33.756Z"
   },
   {
    "duration": 117,
    "start_time": "2024-12-05T05:06:33.860Z"
   },
   {
    "duration": 400,
    "start_time": "2024-12-05T05:06:33.979Z"
   },
   {
    "duration": 373,
    "start_time": "2024-12-05T05:07:19.660Z"
   },
   {
    "duration": 758,
    "start_time": "2024-12-05T05:11:43.598Z"
   },
   {
    "duration": 32,
    "start_time": "2024-12-05T05:11:44.359Z"
   },
   {
    "duration": 3,
    "start_time": "2024-12-05T05:11:44.393Z"
   },
   {
    "duration": 12,
    "start_time": "2024-12-05T05:11:44.398Z"
   },
   {
    "duration": 39,
    "start_time": "2024-12-05T05:11:44.413Z"
   },
   {
    "duration": 22,
    "start_time": "2024-12-05T05:11:44.454Z"
   },
   {
    "duration": 67,
    "start_time": "2024-12-05T05:11:44.480Z"
   },
   {
    "duration": 109,
    "start_time": "2024-12-05T05:11:44.549Z"
   },
   {
    "duration": 96,
    "start_time": "2024-12-05T05:11:44.660Z"
   },
   {
    "duration": 120,
    "start_time": "2024-12-05T05:11:44.758Z"
   },
   {
    "duration": 454,
    "start_time": "2024-12-05T05:11:44.880Z"
   },
   {
    "duration": 780,
    "start_time": "2024-12-05T05:13:21.987Z"
   },
   {
    "duration": 32,
    "start_time": "2024-12-05T05:13:22.769Z"
   },
   {
    "duration": 3,
    "start_time": "2024-12-05T05:13:22.802Z"
   },
   {
    "duration": 13,
    "start_time": "2024-12-05T05:13:22.807Z"
   },
   {
    "duration": 38,
    "start_time": "2024-12-05T05:13:22.822Z"
   },
   {
    "duration": 17,
    "start_time": "2024-12-05T05:13:22.862Z"
   },
   {
    "duration": 61,
    "start_time": "2024-12-05T05:13:22.882Z"
   },
   {
    "duration": 113,
    "start_time": "2024-12-05T05:13:22.945Z"
   },
   {
    "duration": 97,
    "start_time": "2024-12-05T05:13:23.059Z"
   },
   {
    "duration": 113,
    "start_time": "2024-12-05T05:13:23.158Z"
   },
   {
    "duration": 419,
    "start_time": "2024-12-05T05:13:23.273Z"
   },
   {
    "duration": 832,
    "start_time": "2024-12-05T05:26:09.746Z"
   },
   {
    "duration": 33,
    "start_time": "2024-12-05T05:26:10.581Z"
   },
   {
    "duration": 3,
    "start_time": "2024-12-05T05:26:10.616Z"
   },
   {
    "duration": 27,
    "start_time": "2024-12-05T05:26:10.622Z"
   },
   {
    "duration": 21,
    "start_time": "2024-12-05T05:26:10.650Z"
   },
   {
    "duration": 18,
    "start_time": "2024-12-05T05:26:10.673Z"
   },
   {
    "duration": 6,
    "start_time": "2024-12-05T05:26:10.746Z"
   },
   {
    "duration": 119,
    "start_time": "2024-12-05T05:26:10.754Z"
   },
   {
    "duration": 90,
    "start_time": "2024-12-05T05:26:10.875Z"
   },
   {
    "duration": 113,
    "start_time": "2024-12-05T05:26:10.968Z"
   },
   {
    "duration": 344,
    "start_time": "2024-12-05T05:26:11.144Z"
   },
   {
    "duration": 73,
    "start_time": "2024-12-05T05:26:11.490Z"
   },
   {
    "duration": 747,
    "start_time": "2024-12-05T05:26:37.829Z"
   },
   {
    "duration": 32,
    "start_time": "2024-12-05T05:26:38.578Z"
   },
   {
    "duration": 3,
    "start_time": "2024-12-05T05:26:38.613Z"
   },
   {
    "duration": 13,
    "start_time": "2024-12-05T05:26:38.617Z"
   },
   {
    "duration": 20,
    "start_time": "2024-12-05T05:26:38.644Z"
   },
   {
    "duration": 13,
    "start_time": "2024-12-05T05:26:38.666Z"
   },
   {
    "duration": 63,
    "start_time": "2024-12-05T05:26:38.680Z"
   },
   {
    "duration": 108,
    "start_time": "2024-12-05T05:26:38.744Z"
   },
   {
    "duration": 96,
    "start_time": "2024-12-05T05:26:38.853Z"
   },
   {
    "duration": 112,
    "start_time": "2024-12-05T05:26:38.953Z"
   },
   {
    "duration": 370,
    "start_time": "2024-12-05T05:26:39.067Z"
   },
   {
    "duration": 71,
    "start_time": "2024-12-05T05:26:39.438Z"
   },
   {
    "duration": 744,
    "start_time": "2024-12-05T05:27:00.229Z"
   },
   {
    "duration": 32,
    "start_time": "2024-12-05T05:27:00.975Z"
   },
   {
    "duration": 3,
    "start_time": "2024-12-05T05:27:01.009Z"
   },
   {
    "duration": 29,
    "start_time": "2024-12-05T05:27:01.015Z"
   },
   {
    "duration": 22,
    "start_time": "2024-12-05T05:27:01.046Z"
   },
   {
    "duration": 14,
    "start_time": "2024-12-05T05:27:01.070Z"
   },
   {
    "duration": 59,
    "start_time": "2024-12-05T05:27:01.085Z"
   },
   {
    "duration": 110,
    "start_time": "2024-12-05T05:27:01.146Z"
   },
   {
    "duration": 100,
    "start_time": "2024-12-05T05:27:01.257Z"
   },
   {
    "duration": 107,
    "start_time": "2024-12-05T05:27:01.361Z"
   },
   {
    "duration": 382,
    "start_time": "2024-12-05T05:27:01.469Z"
   },
   {
    "duration": 73,
    "start_time": "2024-12-05T05:27:01.853Z"
   },
   {
    "duration": 845,
    "start_time": "2024-12-05T05:27:18.070Z"
   },
   {
    "duration": 34,
    "start_time": "2024-12-05T05:27:18.917Z"
   },
   {
    "duration": 3,
    "start_time": "2024-12-05T05:27:18.952Z"
   },
   {
    "duration": 13,
    "start_time": "2024-12-05T05:27:18.957Z"
   },
   {
    "duration": 19,
    "start_time": "2024-12-05T05:27:18.972Z"
   },
   {
    "duration": 56,
    "start_time": "2024-12-05T05:27:18.992Z"
   },
   {
    "duration": 6,
    "start_time": "2024-12-05T05:27:19.051Z"
   },
   {
    "duration": 109,
    "start_time": "2024-12-05T05:27:19.058Z"
   },
   {
    "duration": 173,
    "start_time": "2024-12-05T05:27:19.170Z"
   },
   {
    "duration": 110,
    "start_time": "2024-12-05T05:27:19.345Z"
   },
   {
    "duration": 351,
    "start_time": "2024-12-05T05:27:19.457Z"
   },
   {
    "duration": 72,
    "start_time": "2024-12-05T05:27:19.810Z"
   },
   {
    "duration": 768,
    "start_time": "2024-12-05T05:27:37.530Z"
   },
   {
    "duration": 32,
    "start_time": "2024-12-05T05:27:38.300Z"
   },
   {
    "duration": 10,
    "start_time": "2024-12-05T05:27:38.333Z"
   },
   {
    "duration": 13,
    "start_time": "2024-12-05T05:27:38.344Z"
   },
   {
    "duration": 19,
    "start_time": "2024-12-05T05:27:38.360Z"
   },
   {
    "duration": 12,
    "start_time": "2024-12-05T05:27:38.381Z"
   },
   {
    "duration": 7,
    "start_time": "2024-12-05T05:27:38.442Z"
   },
   {
    "duration": 109,
    "start_time": "2024-12-05T05:27:38.451Z"
   },
   {
    "duration": 86,
    "start_time": "2024-12-05T05:27:38.564Z"
   },
   {
    "duration": 116,
    "start_time": "2024-12-05T05:27:38.653Z"
   },
   {
    "duration": 363,
    "start_time": "2024-12-05T05:27:38.771Z"
   },
   {
    "duration": 78,
    "start_time": "2024-12-05T05:27:39.136Z"
   },
   {
    "duration": 875,
    "start_time": "2024-12-06T04:43:32.504Z"
   },
   {
    "duration": 36,
    "start_time": "2024-12-06T04:43:33.381Z"
   },
   {
    "duration": 4,
    "start_time": "2024-12-06T04:43:33.419Z"
   },
   {
    "duration": 14,
    "start_time": "2024-12-06T04:43:33.425Z"
   },
   {
    "duration": 46,
    "start_time": "2024-12-06T04:43:33.442Z"
   },
   {
    "duration": 25,
    "start_time": "2024-12-06T04:43:33.489Z"
   },
   {
    "duration": 75,
    "start_time": "2024-12-06T04:43:33.517Z"
   },
   {
    "duration": 107,
    "start_time": "2024-12-06T04:43:33.598Z"
   },
   {
    "duration": 104,
    "start_time": "2024-12-06T04:43:33.711Z"
   },
   {
    "duration": 104,
    "start_time": "2024-12-06T04:43:33.819Z"
   },
   {
    "duration": 418,
    "start_time": "2024-12-06T04:43:33.925Z"
   },
   {
    "duration": 82,
    "start_time": "2024-12-06T04:43:34.345Z"
   },
   {
    "duration": 776,
    "start_time": "2024-12-07T03:24:52.167Z"
   },
   {
    "duration": 61,
    "start_time": "2024-12-07T03:24:52.945Z"
   },
   {
    "duration": 3,
    "start_time": "2024-12-07T03:24:53.007Z"
   },
   {
    "duration": 12,
    "start_time": "2024-12-07T03:24:53.012Z"
   },
   {
    "duration": 18,
    "start_time": "2024-12-07T03:24:53.026Z"
   },
   {
    "duration": 35,
    "start_time": "2024-12-07T03:24:53.046Z"
   },
   {
    "duration": 6,
    "start_time": "2024-12-07T03:24:53.082Z"
   },
   {
    "duration": 111,
    "start_time": "2024-12-07T03:24:53.090Z"
   },
   {
    "duration": 101,
    "start_time": "2024-12-07T03:24:53.272Z"
   },
   {
    "duration": 324,
    "start_time": "2024-12-07T03:24:53.375Z"
   },
   {
    "duration": 0,
    "start_time": "2024-12-07T03:24:53.701Z"
   },
   {
    "duration": 0,
    "start_time": "2024-12-07T03:24:53.702Z"
   },
   {
    "duration": 45,
    "start_time": "2024-12-07T03:26:34.534Z"
   },
   {
    "duration": 191,
    "start_time": "2024-12-07T03:27:18.147Z"
   },
   {
    "duration": 742,
    "start_time": "2024-12-07T03:28:38.334Z"
   },
   {
    "duration": 32,
    "start_time": "2024-12-07T03:28:39.078Z"
   },
   {
    "duration": 2,
    "start_time": "2024-12-07T03:28:39.112Z"
   },
   {
    "duration": 13,
    "start_time": "2024-12-07T03:28:39.116Z"
   },
   {
    "duration": 19,
    "start_time": "2024-12-07T03:28:39.132Z"
   },
   {
    "duration": 31,
    "start_time": "2024-12-07T03:28:39.152Z"
   },
   {
    "duration": 12,
    "start_time": "2024-12-07T03:28:39.184Z"
   },
   {
    "duration": 35,
    "start_time": "2024-12-07T03:28:39.273Z"
   },
   {
    "duration": 106,
    "start_time": "2024-12-07T03:28:39.374Z"
   },
   {
    "duration": 111,
    "start_time": "2024-12-07T03:28:39.483Z"
   },
   {
    "duration": 369,
    "start_time": "2024-12-07T03:28:39.597Z"
   },
   {
    "duration": 69,
    "start_time": "2024-12-07T03:28:39.970Z"
   },
   {
    "duration": 230,
    "start_time": "2024-12-07T03:40:16.106Z"
   },
   {
    "duration": 731,
    "start_time": "2024-12-07T03:40:24.457Z"
   },
   {
    "duration": 34,
    "start_time": "2024-12-07T03:40:25.190Z"
   },
   {
    "duration": 3,
    "start_time": "2024-12-07T03:40:25.226Z"
   },
   {
    "duration": 13,
    "start_time": "2024-12-07T03:40:25.231Z"
   },
   {
    "duration": 40,
    "start_time": "2024-12-07T03:40:25.245Z"
   },
   {
    "duration": 15,
    "start_time": "2024-12-07T03:40:25.286Z"
   },
   {
    "duration": 6,
    "start_time": "2024-12-07T03:40:25.303Z"
   },
   {
    "duration": 112,
    "start_time": "2024-12-07T03:40:25.370Z"
   },
   {
    "duration": 104,
    "start_time": "2024-12-07T03:40:25.484Z"
   },
   {
    "duration": 354,
    "start_time": "2024-12-07T03:40:25.591Z"
   },
   {
    "duration": 0,
    "start_time": "2024-12-07T03:40:25.946Z"
   },
   {
    "duration": 0,
    "start_time": "2024-12-07T03:40:25.948Z"
   },
   {
    "duration": 21,
    "start_time": "2024-12-07T03:41:05.210Z"
   },
   {
    "duration": 22,
    "start_time": "2024-12-07T03:41:25.418Z"
   },
   {
    "duration": 25,
    "start_time": "2024-12-07T03:42:52.369Z"
   },
   {
    "duration": 761,
    "start_time": "2024-12-07T03:43:02.346Z"
   },
   {
    "duration": 33,
    "start_time": "2024-12-07T03:43:03.110Z"
   },
   {
    "duration": 3,
    "start_time": "2024-12-07T03:43:03.144Z"
   },
   {
    "duration": 29,
    "start_time": "2024-12-07T03:43:03.149Z"
   },
   {
    "duration": 19,
    "start_time": "2024-12-07T03:43:03.180Z"
   },
   {
    "duration": 18,
    "start_time": "2024-12-07T03:43:03.200Z"
   },
   {
    "duration": 7,
    "start_time": "2024-12-07T03:43:03.270Z"
   },
   {
    "duration": 111,
    "start_time": "2024-12-07T03:43:03.281Z"
   },
   {
    "duration": 174,
    "start_time": "2024-12-07T03:43:03.397Z"
   },
   {
    "duration": 22,
    "start_time": "2024-12-07T03:43:03.576Z"
   },
   {
    "duration": 408,
    "start_time": "2024-12-07T03:43:03.599Z"
   },
   {
    "duration": 74,
    "start_time": "2024-12-07T03:43:04.009Z"
   },
   {
    "duration": 20,
    "start_time": "2024-12-07T03:43:14.142Z"
   },
   {
    "duration": 23,
    "start_time": "2024-12-07T03:43:21.099Z"
   },
   {
    "duration": 25,
    "start_time": "2024-12-07T03:43:30.458Z"
   },
   {
    "duration": 21,
    "start_time": "2024-12-07T03:43:42.308Z"
   },
   {
    "duration": 27,
    "start_time": "2024-12-07T03:43:48.760Z"
   },
   {
    "duration": 36,
    "start_time": "2024-12-07T03:46:27.102Z"
   },
   {
    "duration": 26,
    "start_time": "2024-12-07T03:46:33.534Z"
   },
   {
    "duration": 21,
    "start_time": "2024-12-07T03:46:38.975Z"
   },
   {
    "duration": 32,
    "start_time": "2024-12-07T03:47:16.334Z"
   },
   {
    "duration": 29,
    "start_time": "2024-12-07T03:47:30.239Z"
   },
   {
    "duration": 27,
    "start_time": "2024-12-07T03:47:42.312Z"
   },
   {
    "duration": 21,
    "start_time": "2024-12-07T03:47:48.551Z"
   },
   {
    "duration": 23,
    "start_time": "2024-12-07T03:47:54.703Z"
   },
   {
    "duration": 31,
    "start_time": "2024-12-07T03:48:03.485Z"
   },
   {
    "duration": 31,
    "start_time": "2024-12-07T03:48:09.499Z"
   },
   {
    "duration": 30,
    "start_time": "2024-12-07T03:48:27.511Z"
   },
   {
    "duration": 32,
    "start_time": "2024-12-07T03:48:38.547Z"
   },
   {
    "duration": 30,
    "start_time": "2024-12-07T03:48:45.753Z"
   },
   {
    "duration": 34,
    "start_time": "2024-12-07T03:48:51.490Z"
   },
   {
    "duration": 36,
    "start_time": "2024-12-07T03:48:59.020Z"
   },
   {
    "duration": 37,
    "start_time": "2024-12-07T03:49:08.503Z"
   },
   {
    "duration": 30,
    "start_time": "2024-12-07T03:49:17.242Z"
   },
   {
    "duration": 332,
    "start_time": "2024-12-07T03:50:54.778Z"
   },
   {
    "duration": 337,
    "start_time": "2024-12-07T03:51:38.893Z"
   },
   {
    "duration": 370,
    "start_time": "2024-12-07T03:52:49.582Z"
   },
   {
    "duration": 87,
    "start_time": "2024-12-07T03:52:58.693Z"
   },
   {
    "duration": 232,
    "start_time": "2024-12-07T03:53:08.852Z"
   },
   {
    "duration": 52,
    "start_time": "2024-12-07T03:53:22.358Z"
   },
   {
    "duration": 25,
    "start_time": "2024-12-07T03:53:38.274Z"
   },
   {
    "duration": 33,
    "start_time": "2024-12-07T03:53:43.631Z"
   },
   {
    "duration": 41,
    "start_time": "2024-12-07T03:53:49.897Z"
   },
   {
    "duration": 22,
    "start_time": "2024-12-07T04:00:36.105Z"
   },
   {
    "duration": 778,
    "start_time": "2024-12-07T04:00:44.567Z"
   },
   {
    "duration": 33,
    "start_time": "2024-12-07T04:00:45.347Z"
   },
   {
    "duration": 3,
    "start_time": "2024-12-07T04:00:45.382Z"
   },
   {
    "duration": 13,
    "start_time": "2024-12-07T04:00:45.386Z"
   },
   {
    "duration": 18,
    "start_time": "2024-12-07T04:00:45.401Z"
   },
   {
    "duration": 55,
    "start_time": "2024-12-07T04:00:45.422Z"
   },
   {
    "duration": 6,
    "start_time": "2024-12-07T04:00:45.479Z"
   },
   {
    "duration": 108,
    "start_time": "2024-12-07T04:00:45.487Z"
   },
   {
    "duration": 93,
    "start_time": "2024-12-07T04:00:45.597Z"
   },
   {
    "duration": 111,
    "start_time": "2024-12-07T04:00:45.692Z"
   },
   {
    "duration": 104,
    "start_time": "2024-12-07T04:00:45.805Z"
   },
   {
    "duration": 13,
    "start_time": "2024-12-07T04:00:45.911Z"
   },
   {
    "duration": 6,
    "start_time": "2024-12-07T04:01:43.055Z"
   },
   {
    "duration": 29,
    "start_time": "2024-12-07T04:01:57.647Z"
   },
   {
    "duration": 33,
    "start_time": "2024-12-07T04:03:43.399Z"
   },
   {
    "duration": 32,
    "start_time": "2024-12-07T04:03:51.186Z"
   },
   {
    "duration": 718,
    "start_time": "2024-12-07T04:06:29.608Z"
   },
   {
    "duration": 781,
    "start_time": "2024-12-07T04:06:48.119Z"
   },
   {
    "duration": 32,
    "start_time": "2024-12-07T04:06:48.903Z"
   },
   {
    "duration": 3,
    "start_time": "2024-12-07T04:06:48.938Z"
   },
   {
    "duration": 13,
    "start_time": "2024-12-07T04:06:48.943Z"
   },
   {
    "duration": 19,
    "start_time": "2024-12-07T04:06:48.972Z"
   },
   {
    "duration": 17,
    "start_time": "2024-12-07T04:06:48.993Z"
   },
   {
    "duration": 63,
    "start_time": "2024-12-07T04:06:49.012Z"
   },
   {
    "duration": 112,
    "start_time": "2024-12-07T04:06:49.077Z"
   },
   {
    "duration": 94,
    "start_time": "2024-12-07T04:06:49.191Z"
   },
   {
    "duration": 107,
    "start_time": "2024-12-07T04:06:49.289Z"
   },
   {
    "duration": 89,
    "start_time": "2024-12-07T04:06:49.398Z"
   },
   {
    "duration": 12,
    "start_time": "2024-12-07T04:06:49.489Z"
   },
   {
    "duration": 9,
    "start_time": "2024-12-07T04:08:53.493Z"
   },
   {
    "duration": 760,
    "start_time": "2024-12-07T04:09:05.945Z"
   },
   {
    "duration": 32,
    "start_time": "2024-12-07T04:09:06.708Z"
   },
   {
    "duration": 3,
    "start_time": "2024-12-07T04:09:06.742Z"
   },
   {
    "duration": 23,
    "start_time": "2024-12-07T04:09:06.747Z"
   },
   {
    "duration": 20,
    "start_time": "2024-12-07T04:09:06.773Z"
   },
   {
    "duration": 12,
    "start_time": "2024-12-07T04:09:06.795Z"
   },
   {
    "duration": 5,
    "start_time": "2024-12-07T04:09:06.809Z"
   },
   {
    "duration": 116,
    "start_time": "2024-12-07T04:09:06.871Z"
   },
   {
    "duration": 89,
    "start_time": "2024-12-07T04:09:06.989Z"
   },
   {
    "duration": 109,
    "start_time": "2024-12-07T04:09:07.081Z"
   },
   {
    "duration": 41,
    "start_time": "2024-12-07T04:09:07.192Z"
   },
   {
    "duration": 38,
    "start_time": "2024-12-07T04:09:07.235Z"
   },
   {
    "duration": 797,
    "start_time": "2024-12-07T04:13:44.998Z"
   },
   {
    "duration": 33,
    "start_time": "2024-12-07T04:13:45.797Z"
   },
   {
    "duration": 3,
    "start_time": "2024-12-07T04:13:45.832Z"
   },
   {
    "duration": 12,
    "start_time": "2024-12-07T04:13:45.836Z"
   },
   {
    "duration": 36,
    "start_time": "2024-12-07T04:13:45.851Z"
   },
   {
    "duration": 17,
    "start_time": "2024-12-07T04:13:45.888Z"
   },
   {
    "duration": 67,
    "start_time": "2024-12-07T04:13:45.906Z"
   },
   {
    "duration": 110,
    "start_time": "2024-12-07T04:13:45.975Z"
   },
   {
    "duration": 92,
    "start_time": "2024-12-07T04:13:46.087Z"
   },
   {
    "duration": 111,
    "start_time": "2024-12-07T04:13:46.181Z"
   },
   {
    "duration": 80,
    "start_time": "2024-12-07T04:13:46.294Z"
   },
   {
    "duration": 9,
    "start_time": "2024-12-07T04:13:46.376Z"
   },
   {
    "duration": 33,
    "start_time": "2024-12-07T04:14:06.709Z"
   },
   {
    "duration": 31,
    "start_time": "2024-12-07T04:14:13.187Z"
   },
   {
    "duration": 33,
    "start_time": "2024-12-07T04:14:19.883Z"
   },
   {
    "duration": 39,
    "start_time": "2024-12-07T04:14:24.874Z"
   },
   {
    "duration": 40,
    "start_time": "2024-12-07T04:14:30.973Z"
   },
   {
    "duration": 42,
    "start_time": "2024-12-07T04:14:35.746Z"
   },
   {
    "duration": 30,
    "start_time": "2024-12-07T04:14:42.102Z"
   },
   {
    "duration": 816,
    "start_time": "2024-12-07T04:14:51.781Z"
   },
   {
    "duration": 32,
    "start_time": "2024-12-07T04:14:52.599Z"
   },
   {
    "duration": 3,
    "start_time": "2024-12-07T04:14:52.632Z"
   },
   {
    "duration": 13,
    "start_time": "2024-12-07T04:14:52.637Z"
   },
   {
    "duration": 33,
    "start_time": "2024-12-07T04:14:52.652Z"
   },
   {
    "duration": 15,
    "start_time": "2024-12-07T04:14:52.687Z"
   },
   {
    "duration": 7,
    "start_time": "2024-12-07T04:14:52.703Z"
   },
   {
    "duration": 169,
    "start_time": "2024-12-07T04:14:52.711Z"
   },
   {
    "duration": 102,
    "start_time": "2024-12-07T04:14:52.884Z"
   },
   {
    "duration": 110,
    "start_time": "2024-12-07T04:14:52.987Z"
   },
   {
    "duration": 92,
    "start_time": "2024-12-07T04:14:53.100Z"
   },
   {
    "duration": 8,
    "start_time": "2024-12-07T04:14:53.194Z"
   },
   {
    "duration": 793,
    "start_time": "2024-12-07T19:39:52.036Z"
   },
   {
    "duration": 42,
    "start_time": "2024-12-07T19:39:52.831Z"
   },
   {
    "duration": 3,
    "start_time": "2024-12-07T19:39:52.875Z"
   },
   {
    "duration": 13,
    "start_time": "2024-12-07T19:39:52.879Z"
   },
   {
    "duration": 22,
    "start_time": "2024-12-07T19:39:52.894Z"
   },
   {
    "duration": 10,
    "start_time": "2024-12-07T19:39:52.918Z"
   },
   {
    "duration": 6,
    "start_time": "2024-12-07T19:39:52.930Z"
   },
   {
    "duration": 93,
    "start_time": "2024-12-07T19:39:52.938Z"
   },
   {
    "duration": 93,
    "start_time": "2024-12-07T19:39:53.033Z"
   },
   {
    "duration": 104,
    "start_time": "2024-12-07T19:39:53.128Z"
   },
   {
    "duration": 97,
    "start_time": "2024-12-07T19:39:53.233Z"
   },
   {
    "duration": 11,
    "start_time": "2024-12-07T19:39:53.331Z"
   },
   {
    "duration": 771,
    "start_time": "2024-12-08T02:21:00.907Z"
   },
   {
    "duration": 43,
    "start_time": "2024-12-08T02:21:01.680Z"
   },
   {
    "duration": 4,
    "start_time": "2024-12-08T02:21:01.725Z"
   },
   {
    "duration": 13,
    "start_time": "2024-12-08T02:21:01.730Z"
   },
   {
    "duration": 19,
    "start_time": "2024-12-08T02:21:01.746Z"
   },
   {
    "duration": 14,
    "start_time": "2024-12-08T02:21:01.767Z"
   },
   {
    "duration": 7,
    "start_time": "2024-12-08T02:21:01.832Z"
   },
   {
    "duration": 114,
    "start_time": "2024-12-08T02:21:01.841Z"
   },
   {
    "duration": 94,
    "start_time": "2024-12-08T02:21:01.957Z"
   },
   {
    "duration": 3583,
    "start_time": "2024-12-08T02:21:02.053Z"
   },
   {
    "duration": 30,
    "start_time": "2024-12-08T02:21:05.638Z"
   },
   {
    "duration": 41,
    "start_time": "2024-12-08T02:21:05.670Z"
   },
   {
    "duration": 11,
    "start_time": "2024-12-08T02:21:05.731Z"
   },
   {
    "duration": 777,
    "start_time": "2024-12-08T02:22:46.594Z"
   },
   {
    "duration": 33,
    "start_time": "2024-12-08T02:22:47.373Z"
   },
   {
    "duration": 5,
    "start_time": "2024-12-08T02:22:47.407Z"
   },
   {
    "duration": 25,
    "start_time": "2024-12-08T02:22:47.413Z"
   },
   {
    "duration": 18,
    "start_time": "2024-12-08T02:22:47.440Z"
   },
   {
    "duration": 13,
    "start_time": "2024-12-08T02:22:47.460Z"
   },
   {
    "duration": 59,
    "start_time": "2024-12-08T02:22:47.475Z"
   },
   {
    "duration": 116,
    "start_time": "2024-12-08T02:22:47.536Z"
   },
   {
    "duration": 100,
    "start_time": "2024-12-08T02:22:47.654Z"
   },
   {
    "duration": 3679,
    "start_time": "2024-12-08T02:22:47.756Z"
   },
   {
    "duration": 30,
    "start_time": "2024-12-08T02:22:51.437Z"
   },
   {
    "duration": 40,
    "start_time": "2024-12-08T02:22:51.469Z"
   },
   {
    "duration": 26,
    "start_time": "2024-12-08T02:22:51.511Z"
   },
   {
    "duration": 780,
    "start_time": "2024-12-08T02:28:44.076Z"
   },
   {
    "duration": 32,
    "start_time": "2024-12-08T02:28:44.859Z"
   },
   {
    "duration": 4,
    "start_time": "2024-12-08T02:28:44.893Z"
   },
   {
    "duration": 13,
    "start_time": "2024-12-08T02:28:44.899Z"
   },
   {
    "duration": 19,
    "start_time": "2024-12-08T02:28:44.932Z"
   },
   {
    "duration": 12,
    "start_time": "2024-12-08T02:28:44.953Z"
   },
   {
    "duration": 63,
    "start_time": "2024-12-08T02:28:44.968Z"
   },
   {
    "duration": 113,
    "start_time": "2024-12-08T02:28:45.034Z"
   },
   {
    "duration": 101,
    "start_time": "2024-12-08T02:28:45.150Z"
   },
   {
    "duration": 385,
    "start_time": "2024-12-08T02:28:45.254Z"
   },
   {
    "duration": 31,
    "start_time": "2024-12-08T02:28:45.641Z"
   },
   {
    "duration": 57,
    "start_time": "2024-12-08T02:28:45.674Z"
   },
   {
    "duration": 11,
    "start_time": "2024-12-08T02:28:45.733Z"
   },
   {
    "duration": 242,
    "start_time": "2024-12-08T02:29:01.647Z"
   },
   {
    "duration": 31,
    "start_time": "2024-12-08T02:30:16.151Z"
   },
   {
    "duration": 820,
    "start_time": "2024-12-08T02:50:58.861Z"
   },
   {
    "duration": 34,
    "start_time": "2024-12-08T02:50:59.683Z"
   },
   {
    "duration": 4,
    "start_time": "2024-12-08T02:50:59.719Z"
   },
   {
    "duration": 16,
    "start_time": "2024-12-08T02:50:59.733Z"
   },
   {
    "duration": 21,
    "start_time": "2024-12-08T02:50:59.750Z"
   },
   {
    "duration": 62,
    "start_time": "2024-12-08T02:50:59.773Z"
   },
   {
    "duration": 7,
    "start_time": "2024-12-08T02:50:59.836Z"
   },
   {
    "duration": 114,
    "start_time": "2024-12-08T02:50:59.844Z"
   },
   {
    "duration": 175,
    "start_time": "2024-12-08T02:50:59.962Z"
   },
   {
    "duration": 338,
    "start_time": "2024-12-08T02:51:00.144Z"
   },
   {
    "duration": 6,
    "start_time": "2024-12-08T02:51:00.484Z"
   },
   {
    "duration": 0,
    "start_time": "2024-12-08T02:51:00.492Z"
   },
   {
    "duration": 0,
    "start_time": "2024-12-08T02:51:00.493Z"
   },
   {
    "duration": 236,
    "start_time": "2024-12-08T02:51:08.541Z"
   },
   {
    "duration": 33,
    "start_time": "2024-12-08T02:51:34.661Z"
   },
   {
    "duration": 447,
    "start_time": "2024-12-08T02:51:43.392Z"
   },
   {
    "duration": 461,
    "start_time": "2024-12-08T02:52:38.054Z"
   },
   {
    "duration": 8698,
    "start_time": "2024-12-08T02:52:50.867Z"
   },
   {
    "duration": 8538,
    "start_time": "2024-12-08T02:53:28.729Z"
   },
   {
    "duration": 5,
    "start_time": "2024-12-08T02:56:16.284Z"
   },
   {
    "duration": 739,
    "start_time": "2024-12-08T02:56:29.618Z"
   },
   {
    "duration": 33,
    "start_time": "2024-12-08T02:56:30.359Z"
   },
   {
    "duration": 3,
    "start_time": "2024-12-08T02:56:30.394Z"
   },
   {
    "duration": 17,
    "start_time": "2024-12-08T02:56:30.399Z"
   },
   {
    "duration": 19,
    "start_time": "2024-12-08T02:56:30.431Z"
   },
   {
    "duration": 13,
    "start_time": "2024-12-08T02:56:30.452Z"
   },
   {
    "duration": 65,
    "start_time": "2024-12-08T02:56:30.468Z"
   },
   {
    "duration": 112,
    "start_time": "2024-12-08T02:56:30.536Z"
   },
   {
    "duration": 99,
    "start_time": "2024-12-08T02:56:30.650Z"
   },
   {
    "duration": 376,
    "start_time": "2024-12-08T02:56:30.755Z"
   },
   {
    "duration": 8731,
    "start_time": "2024-12-08T02:56:31.133Z"
   },
   {
    "duration": 4,
    "start_time": "2024-12-08T02:56:39.866Z"
   },
   {
    "duration": 23,
    "start_time": "2024-12-08T02:57:10.590Z"
   },
   {
    "duration": 793,
    "start_time": "2025-01-25T23:28:21.185Z"
   },
   {
    "duration": 41,
    "start_time": "2025-01-25T23:28:21.980Z"
   },
   {
    "duration": 3,
    "start_time": "2025-01-25T23:28:22.023Z"
   },
   {
    "duration": 22,
    "start_time": "2025-01-25T23:28:22.029Z"
   },
   {
    "duration": 18,
    "start_time": "2025-01-25T23:28:22.052Z"
   },
   {
    "duration": 10,
    "start_time": "2025-01-25T23:28:22.071Z"
   },
   {
    "duration": 6,
    "start_time": "2025-01-25T23:28:22.083Z"
   },
   {
    "duration": 114,
    "start_time": "2025-01-25T23:28:22.143Z"
   },
   {
    "duration": 97,
    "start_time": "2025-01-25T23:28:22.259Z"
   },
   {
    "duration": 351,
    "start_time": "2025-01-25T23:28:22.359Z"
   },
   {
    "duration": 7584,
    "start_time": "2025-01-25T23:28:22.712Z"
   },
   {
    "duration": 20,
    "start_time": "2025-01-25T23:28:30.298Z"
   },
   {
    "duration": 12,
    "start_time": "2025-01-25T23:29:28.633Z"
   },
   {
    "duration": 737,
    "start_time": "2025-01-25T23:29:39.535Z"
   },
   {
    "duration": 31,
    "start_time": "2025-01-25T23:29:40.274Z"
   },
   {
    "duration": 3,
    "start_time": "2025-01-25T23:29:40.307Z"
   },
   {
    "duration": 12,
    "start_time": "2025-01-25T23:29:40.312Z"
   },
   {
    "duration": 34,
    "start_time": "2025-01-25T23:29:40.326Z"
   },
   {
    "duration": 14,
    "start_time": "2025-01-25T23:29:40.361Z"
   },
   {
    "duration": 6,
    "start_time": "2025-01-25T23:29:40.376Z"
   },
   {
    "duration": 116,
    "start_time": "2025-01-25T23:29:40.442Z"
   },
   {
    "duration": 95,
    "start_time": "2025-01-25T23:29:40.563Z"
   },
   {
    "duration": 359,
    "start_time": "2025-01-25T23:29:40.663Z"
   },
   {
    "duration": 8489,
    "start_time": "2025-01-25T23:29:41.024Z"
   },
   {
    "duration": 31,
    "start_time": "2025-01-25T23:29:49.515Z"
   }
  ],
  "kernelspec": {
   "display_name": "Python 3 (ipykernel)",
   "language": "python",
   "name": "python3"
  },
  "language_info": {
   "codemirror_mode": {
    "name": "ipython",
    "version": 3
   },
   "file_extension": ".py",
   "mimetype": "text/x-python",
   "name": "python",
   "nbconvert_exporter": "python",
   "pygments_lexer": "ipython3",
   "version": "3.9.19"
  },
  "toc": {
   "base_numbering": 1,
   "nav_menu": {},
   "number_sections": true,
   "sideBar": true,
   "skip_h1_title": true,
   "title_cell": "Table of Contents",
   "title_sidebar": "Contents",
   "toc_cell": false,
   "toc_position": {},
   "toc_section_display": true,
   "toc_window_display": false
  }
 },
 "nbformat": 4,
 "nbformat_minor": 2
}
